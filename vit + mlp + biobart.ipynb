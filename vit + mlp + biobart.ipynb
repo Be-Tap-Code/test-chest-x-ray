{
 "cells": [
  {
   "cell_type": "code",
   "execution_count": 1,
   "id": "726a6095",
   "metadata": {
    "execution": {
     "iopub.execute_input": "2025-04-24T15:16:46.640836Z",
     "iopub.status.busy": "2025-04-24T15:16:46.640560Z",
     "iopub.status.idle": "2025-04-24T15:17:00.447862Z",
     "shell.execute_reply": "2025-04-24T15:17:00.446961Z"
    },
    "papermill": {
     "duration": 13.812253,
     "end_time": "2025-04-24T15:17:00.449382",
     "exception": false,
     "start_time": "2025-04-24T15:16:46.637129",
     "status": "completed"
    },
    "tags": []
   },
   "outputs": [
    {
     "name": "stdout",
     "output_type": "stream",
     "text": [
      "Collecting sacremoses\r\n",
      "  Downloading sacremoses-0.1.1-py3-none-any.whl.metadata (8.3 kB)\r\n",
      "Requirement already satisfied: regex in /usr/local/lib/python3.11/dist-packages (from sacremoses) (2024.11.6)\r\n",
      "Requirement already satisfied: click in /usr/local/lib/python3.11/dist-packages (from sacremoses) (8.1.8)\r\n",
      "Requirement already satisfied: joblib in /usr/local/lib/python3.11/dist-packages (from sacremoses) (1.4.2)\r\n",
      "Requirement already satisfied: tqdm in /usr/local/lib/python3.11/dist-packages (from sacremoses) (4.67.1)\r\n",
      "Downloading sacremoses-0.1.1-py3-none-any.whl (897 kB)\r\n",
      "\u001b[2K   \u001b[90m━━━━━━━━━━━━━━━━━━━━━━━━━━━━━━━━━━━━━━━━\u001b[0m \u001b[32m897.5/897.5 kB\u001b[0m \u001b[31m20.0 MB/s\u001b[0m eta \u001b[36m0:00:00\u001b[0m\r\n",
      "\u001b[?25hInstalling collected packages: sacremoses\r\n",
      "Successfully installed sacremoses-0.1.1\r\n",
      "Collecting rouge_score\r\n",
      "  Downloading rouge_score-0.1.2.tar.gz (17 kB)\r\n",
      "  Preparing metadata (setup.py) ... \u001b[?25l\u001b[?25hdone\r\n",
      "Requirement already satisfied: absl-py in /usr/local/lib/python3.11/dist-packages (from rouge_score) (1.4.0)\r\n",
      "Requirement already satisfied: nltk in /usr/local/lib/python3.11/dist-packages (from rouge_score) (3.9.1)\r\n",
      "Requirement already satisfied: numpy in /usr/local/lib/python3.11/dist-packages (from rouge_score) (1.26.4)\r\n",
      "Requirement already satisfied: six>=1.14.0 in /usr/local/lib/python3.11/dist-packages (from rouge_score) (1.17.0)\r\n",
      "Requirement already satisfied: click in /usr/local/lib/python3.11/dist-packages (from nltk->rouge_score) (8.1.8)\r\n",
      "Requirement already satisfied: joblib in /usr/local/lib/python3.11/dist-packages (from nltk->rouge_score) (1.4.2)\r\n",
      "Requirement already satisfied: regex>=2021.8.3 in /usr/local/lib/python3.11/dist-packages (from nltk->rouge_score) (2024.11.6)\r\n",
      "Requirement already satisfied: tqdm in /usr/local/lib/python3.11/dist-packages (from nltk->rouge_score) (4.67.1)\r\n",
      "Requirement already satisfied: mkl_fft in /usr/local/lib/python3.11/dist-packages (from numpy->rouge_score) (1.3.8)\r\n",
      "Requirement already satisfied: mkl_random in /usr/local/lib/python3.11/dist-packages (from numpy->rouge_score) (1.2.4)\r\n",
      "Requirement already satisfied: mkl_umath in /usr/local/lib/python3.11/dist-packages (from numpy->rouge_score) (0.1.1)\r\n",
      "Requirement already satisfied: mkl in /usr/local/lib/python3.11/dist-packages (from numpy->rouge_score) (2025.1.0)\r\n",
      "Requirement already satisfied: tbb4py in /usr/local/lib/python3.11/dist-packages (from numpy->rouge_score) (2022.1.0)\r\n",
      "Requirement already satisfied: mkl-service in /usr/local/lib/python3.11/dist-packages (from numpy->rouge_score) (2.4.1)\r\n",
      "Requirement already satisfied: intel-openmp<2026,>=2024 in /usr/local/lib/python3.11/dist-packages (from mkl->numpy->rouge_score) (2024.2.0)\r\n",
      "Requirement already satisfied: tbb==2022.* in /usr/local/lib/python3.11/dist-packages (from mkl->numpy->rouge_score) (2022.1.0)\r\n",
      "Requirement already satisfied: tcmlib==1.* in /usr/local/lib/python3.11/dist-packages (from tbb==2022.*->mkl->numpy->rouge_score) (1.2.0)\r\n",
      "Requirement already satisfied: intel-cmplr-lib-rt in /usr/local/lib/python3.11/dist-packages (from mkl_umath->numpy->rouge_score) (2024.2.0)\r\n",
      "Requirement already satisfied: intel-cmplr-lib-ur==2024.2.0 in /usr/local/lib/python3.11/dist-packages (from intel-openmp<2026,>=2024->mkl->numpy->rouge_score) (2024.2.0)\r\n",
      "Building wheels for collected packages: rouge_score\r\n",
      "  Building wheel for rouge_score (setup.py) ... \u001b[?25l\u001b[?25hdone\r\n",
      "  Created wheel for rouge_score: filename=rouge_score-0.1.2-py3-none-any.whl size=24935 sha256=22454b22adab8e1ab24f434f4d0f07cacf3e4d84439d2e8dbfd6b74421285337\r\n",
      "  Stored in directory: /root/.cache/pip/wheels/1e/19/43/8a442dc83660ca25e163e1bd1f89919284ab0d0c1475475148\r\n",
      "Successfully built rouge_score\r\n",
      "Installing collected packages: rouge_score\r\n",
      "Successfully installed rouge_score-0.1.2\r\n",
      "Collecting pycocoevalcap\r\n",
      "  Downloading pycocoevalcap-1.2-py3-none-any.whl.metadata (3.2 kB)\r\n",
      "Requirement already satisfied: pycocotools>=2.0.2 in /usr/local/lib/python3.11/dist-packages (from pycocoevalcap) (2.0.8)\r\n",
      "Requirement already satisfied: matplotlib>=2.1.0 in /usr/local/lib/python3.11/dist-packages (from pycocotools>=2.0.2->pycocoevalcap) (3.7.5)\r\n",
      "Requirement already satisfied: numpy in /usr/local/lib/python3.11/dist-packages (from pycocotools>=2.0.2->pycocoevalcap) (1.26.4)\r\n",
      "Requirement already satisfied: contourpy>=1.0.1 in /usr/local/lib/python3.11/dist-packages (from matplotlib>=2.1.0->pycocotools>=2.0.2->pycocoevalcap) (1.3.1)\r\n",
      "Requirement already satisfied: cycler>=0.10 in /usr/local/lib/python3.11/dist-packages (from matplotlib>=2.1.0->pycocotools>=2.0.2->pycocoevalcap) (0.12.1)\r\n",
      "Requirement already satisfied: fonttools>=4.22.0 in /usr/local/lib/python3.11/dist-packages (from matplotlib>=2.1.0->pycocotools>=2.0.2->pycocoevalcap) (4.56.0)\r\n",
      "Requirement already satisfied: kiwisolver>=1.0.1 in /usr/local/lib/python3.11/dist-packages (from matplotlib>=2.1.0->pycocotools>=2.0.2->pycocoevalcap) (1.4.8)\r\n",
      "Requirement already satisfied: packaging>=20.0 in /usr/local/lib/python3.11/dist-packages (from matplotlib>=2.1.0->pycocotools>=2.0.2->pycocoevalcap) (24.2)\r\n",
      "Requirement already satisfied: pillow>=6.2.0 in /usr/local/lib/python3.11/dist-packages (from matplotlib>=2.1.0->pycocotools>=2.0.2->pycocoevalcap) (11.1.0)\r\n",
      "Requirement already satisfied: pyparsing>=2.3.1 in /usr/local/lib/python3.11/dist-packages (from matplotlib>=2.1.0->pycocotools>=2.0.2->pycocoevalcap) (3.2.1)\r\n",
      "Requirement already satisfied: python-dateutil>=2.7 in /usr/local/lib/python3.11/dist-packages (from matplotlib>=2.1.0->pycocotools>=2.0.2->pycocoevalcap) (2.9.0.post0)\r\n",
      "Requirement already satisfied: mkl_fft in /usr/local/lib/python3.11/dist-packages (from numpy->pycocotools>=2.0.2->pycocoevalcap) (1.3.8)\r\n",
      "Requirement already satisfied: mkl_random in /usr/local/lib/python3.11/dist-packages (from numpy->pycocotools>=2.0.2->pycocoevalcap) (1.2.4)\r\n",
      "Requirement already satisfied: mkl_umath in /usr/local/lib/python3.11/dist-packages (from numpy->pycocotools>=2.0.2->pycocoevalcap) (0.1.1)\r\n",
      "Requirement already satisfied: mkl in /usr/local/lib/python3.11/dist-packages (from numpy->pycocotools>=2.0.2->pycocoevalcap) (2025.1.0)\r\n",
      "Requirement already satisfied: tbb4py in /usr/local/lib/python3.11/dist-packages (from numpy->pycocotools>=2.0.2->pycocoevalcap) (2022.1.0)\r\n",
      "Requirement already satisfied: mkl-service in /usr/local/lib/python3.11/dist-packages (from numpy->pycocotools>=2.0.2->pycocoevalcap) (2.4.1)\r\n",
      "Requirement already satisfied: six>=1.5 in /usr/local/lib/python3.11/dist-packages (from python-dateutil>=2.7->matplotlib>=2.1.0->pycocotools>=2.0.2->pycocoevalcap) (1.17.0)\r\n",
      "Requirement already satisfied: intel-openmp<2026,>=2024 in /usr/local/lib/python3.11/dist-packages (from mkl->numpy->pycocotools>=2.0.2->pycocoevalcap) (2024.2.0)\r\n",
      "Requirement already satisfied: tbb==2022.* in /usr/local/lib/python3.11/dist-packages (from mkl->numpy->pycocotools>=2.0.2->pycocoevalcap) (2022.1.0)\r\n",
      "Requirement already satisfied: tcmlib==1.* in /usr/local/lib/python3.11/dist-packages (from tbb==2022.*->mkl->numpy->pycocotools>=2.0.2->pycocoevalcap) (1.2.0)\r\n",
      "Requirement already satisfied: intel-cmplr-lib-rt in /usr/local/lib/python3.11/dist-packages (from mkl_umath->numpy->pycocotools>=2.0.2->pycocoevalcap) (2024.2.0)\r\n",
      "Requirement already satisfied: intel-cmplr-lib-ur==2024.2.0 in /usr/local/lib/python3.11/dist-packages (from intel-openmp<2026,>=2024->mkl->numpy->pycocotools>=2.0.2->pycocoevalcap) (2024.2.0)\r\n",
      "Downloading pycocoevalcap-1.2-py3-none-any.whl (104.3 MB)\r\n",
      "\u001b[2K   \u001b[90m━━━━━━━━━━━━━━━━━━━━━━━━━━━━━━━━━━━━━━━━\u001b[0m \u001b[32m104.3/104.3 MB\u001b[0m \u001b[31m16.7 MB/s\u001b[0m eta \u001b[36m0:00:00\u001b[0m\r\n",
      "\u001b[?25hInstalling collected packages: pycocoevalcap\r\n",
      "Successfully installed pycocoevalcap-1.2\r\n"
     ]
    }
   ],
   "source": [
    "!pip install sacremoses \n",
    "!pip install rouge_score \n",
    "!pip install pycocoevalcap\n",
    "# !pip install open_clip_torch"
   ]
  },
  {
   "cell_type": "code",
   "execution_count": 2,
   "id": "60504d85",
   "metadata": {
    "execution": {
     "iopub.execute_input": "2025-04-24T15:17:00.458259Z",
     "iopub.status.busy": "2025-04-24T15:17:00.457780Z",
     "iopub.status.idle": "2025-04-24T15:17:01.424287Z",
     "shell.execute_reply": "2025-04-24T15:17:01.423564Z"
    },
    "papermill": {
     "duration": 0.971879,
     "end_time": "2025-04-24T15:17:01.425535",
     "exception": false,
     "start_time": "2025-04-24T15:17:00.453656",
     "status": "completed"
    },
    "tags": []
   },
   "outputs": [
    {
     "name": "stdout",
     "output_type": "stream",
     "text": [
      "Cloning into 'XrayImage_Gen_Report'...\r\n",
      "remote: Enumerating objects: 475, done.\u001b[K\r\n",
      "remote: Counting objects: 100% (122/122), done.\u001b[K\r\n",
      "remote: Compressing objects: 100% (93/93), done.\u001b[K\r\n",
      "remote: Total 475 (delta 54), reused 97 (delta 29), pack-reused 353 (from 1)\u001b[K\r\n",
      "Receiving objects: 100% (475/475), 97.68 KiB | 6.51 MiB/s, done.\r\n",
      "Resolving deltas: 100% (270/270), done.\r\n"
     ]
    }
   ],
   "source": [
    "!git clone https://github.com/hein-nkhh/XrayImage_Gen_Report.git"
   ]
  },
  {
   "cell_type": "code",
   "execution_count": 3,
   "id": "e3790b6e",
   "metadata": {
    "execution": {
     "iopub.execute_input": "2025-04-24T15:17:01.435277Z",
     "iopub.status.busy": "2025-04-24T15:17:01.434757Z",
     "iopub.status.idle": "2025-04-24T15:17:01.441402Z",
     "shell.execute_reply": "2025-04-24T15:17:01.440708Z"
    },
    "papermill": {
     "duration": 0.012552,
     "end_time": "2025-04-24T15:17:01.442527",
     "exception": false,
     "start_time": "2025-04-24T15:17:01.429975",
     "status": "completed"
    },
    "tags": []
   },
   "outputs": [
    {
     "name": "stdout",
     "output_type": "stream",
     "text": [
      "/kaggle/working/XrayImage_Gen_Report\n"
     ]
    }
   ],
   "source": [
    "%cd /kaggle/working/XrayImage_Gen_Report"
   ]
  },
  {
   "cell_type": "code",
   "execution_count": 4,
   "id": "ab917921",
   "metadata": {
    "execution": {
     "iopub.execute_input": "2025-04-24T15:17:01.451228Z",
     "iopub.status.busy": "2025-04-24T15:17:01.450698Z",
     "iopub.status.idle": "2025-04-24T15:17:01.455684Z",
     "shell.execute_reply": "2025-04-24T15:17:01.455087Z"
    },
    "papermill": {
     "duration": 0.010296,
     "end_time": "2025-04-24T15:17:01.456669",
     "exception": false,
     "start_time": "2025-04-24T15:17:01.446373",
     "status": "completed"
    },
    "tags": []
   },
   "outputs": [
    {
     "name": "stdout",
     "output_type": "stream",
     "text": [
      "Writing /kaggle/working/XrayImage_Gen_Report/models/feature_extractos.py\n"
     ]
    }
   ],
   "source": [
    "%%writefile /kaggle/working/XrayImage_Gen_Report/models/feature_extractos.py\n",
    "import torch\n",
    "from transformers import ViTModel, ViTFeatureExtractor\n",
    "from config import DEVICE\n",
    "\n",
    "class FeatureExtractor:\n",
    "    def __init__(self):\n",
    "        # Sử dụng CLIP-ViT thay cho Swin Transformer\n",
    "        self.model = ViTModel.from_pretrained('google/vit-base-patch16-224-in21k').to(DEVICE)\n",
    "        self.model.eval()\n",
    "        self.processor = ViTFeatureExtractor.from_pretrained('google/vit-base-patch16-224-in21k')\n",
    "\n",
    "    def extract(self, image):\n",
    "        # Chuẩn bị ảnh và chú thích cho CLIP\n",
    "        inputs = self.processor(images=image, return_tensors=\"pt\")\n",
    "        inputs = {k: v.to(DEVICE) for k, v in inputs.items()}\n",
    "        with torch.no_grad():\n",
    "            # Lấy các đặc trưng từ CLIP\n",
    "            outputs = self.model.get_image_features(**inputs)\n",
    "        return outputs[:, 0, :].squeeze(0).cpu().numpy()"
   ]
  },
  {
   "cell_type": "code",
   "execution_count": 5,
   "id": "ae4e9678",
   "metadata": {
    "execution": {
     "iopub.execute_input": "2025-04-24T15:17:01.466696Z",
     "iopub.status.busy": "2025-04-24T15:17:01.466275Z",
     "iopub.status.idle": "2025-04-24T15:17:01.470447Z",
     "shell.execute_reply": "2025-04-24T15:17:01.469734Z"
    },
    "papermill": {
     "duration": 0.009726,
     "end_time": "2025-04-24T15:17:01.471474",
     "exception": false,
     "start_time": "2025-04-24T15:17:01.461748",
     "status": "completed"
    },
    "tags": []
   },
   "outputs": [
    {
     "name": "stdout",
     "output_type": "stream",
     "text": [
      "Overwriting /kaggle/working/XrayImage_Gen_Report/models/mlp.py\n"
     ]
    }
   ],
   "source": [
    "%%writefile /kaggle/working/XrayImage_Gen_Report/models/mlp.py\n",
    "import torch\n",
    "import torch.nn as nn\n",
    "from config import MLP_HIDDEN_DIM\n",
    "\n",
    "class MLP(nn.Module):\n",
    "    def __init__(self, input_dim, output_dim):\n",
    "        super(MLP, self).__init__()\n",
    "        self.fc1 = nn.Linear(input_dim, MLP_HIDDEN_DIM)\n",
    "        self.dropout1 = nn.Dropout(0.1)\n",
    "        self.fc2 = nn.Linear(MLP_HIDDEN_DIM, output_dim)\n",
    "        self.layer_norm = nn.LayerNorm(output_dim)\n",
    "\n",
    "    def forward(self, x):\n",
    "        x = self.fc1(x)\n",
    "        x = torch.relu(x)\n",
    "        x = self.dropout1(x)\n",
    "        x = self.fc2(x)\n",
    "        x = self.layer_norm(x)\n",
    "        return x\n"
   ]
  },
  {
   "cell_type": "code",
   "execution_count": 6,
   "id": "894bc1c9",
   "metadata": {
    "execution": {
     "iopub.execute_input": "2025-04-24T15:17:01.480348Z",
     "iopub.status.busy": "2025-04-24T15:17:01.479793Z",
     "iopub.status.idle": "2025-04-24T15:17:01.484576Z",
     "shell.execute_reply": "2025-04-24T15:17:01.484038Z"
    },
    "papermill": {
     "duration": 0.010163,
     "end_time": "2025-04-24T15:17:01.485603",
     "exception": false,
     "start_time": "2025-04-24T15:17:01.475440",
     "status": "completed"
    },
    "tags": []
   },
   "outputs": [
    {
     "name": "stdout",
     "output_type": "stream",
     "text": [
      "Overwriting /kaggle/working/XrayImage_Gen_Report/models/report_generator.py\n"
     ]
    }
   ],
   "source": [
    "%%writefile /kaggle/working/XrayImage_Gen_Report/models/report_generator.py\n",
    "# models/generator.py\n",
    "import torch\n",
    "from transformers import AutoTokenizer, T5ForConditionalGeneration\n",
    "from config import BIOBART_MODEL_NAME, DEVICE\n",
    "\n",
    "class ReportGenerator:\n",
    "    def __init__(self):\n",
    "        self.tokenizer = AutoTokenizer.from_pretrained('QizhiPei/biot5-base', model_max_length=512)\n",
    "        self.model = T5ForConditionalGeneration.from_pretrained('QizhiPei/biot5-base').to(DEVICE)\n",
    "        self.model.config.pad_token_id = self.tokenizer.pad_token_id\n",
    "\n",
    "    def generate(self, embeddings, max_length=150):\n",
    "        inputs = embeddings.unsqueeze(1)\n",
    "        output_ids = self.model.generate(\n",
    "            inputs_embeds=inputs,\n",
    "            max_length=max_length,\n",
    "            num_beams=4,\n",
    "            early_stopping=True\n",
    "        )\n",
    "        return self.tokenizer.batch_decode(output_ids, skip_special_tokens=True)\n",
    "\n",
    "    def get_loss(self, embeddings, labels, attention_mask):\n",
    "        batch_size, seq_len = labels.shape\n",
    "        inputs_embeds = embeddings.unsqueeze(1).expand(-1, seq_len, -1)\n",
    "        vocab_size = self.model.config.vocab_size\n",
    "        if labels.max() >= vocab_size:\n",
    "            print(\"⚠️ Token ID vượt vocab size:\", labels.max().item(), \"vượt\", vocab_size)\n",
    "            print(\"Vị trí lỗi:\", torch.nonzero(labels >= vocab_size))\n",
    "            exit(1)\n",
    "\n",
    "        output = self.model(\n",
    "            inputs_embeds=inputs_embeds,\n",
    "            labels=labels,\n",
    "            decoder_attention_mask=attention_mask,\n",
    "        )\n",
    "        return output.loss\n"
   ]
  },
  {
   "cell_type": "code",
   "execution_count": 7,
   "id": "95d53881",
   "metadata": {
    "execution": {
     "iopub.execute_input": "2025-04-24T15:17:01.494230Z",
     "iopub.status.busy": "2025-04-24T15:17:01.494014Z",
     "iopub.status.idle": "2025-04-24T15:17:01.609124Z",
     "shell.execute_reply": "2025-04-24T15:17:01.608266Z"
    },
    "papermill": {
     "duration": 0.120885,
     "end_time": "2025-04-24T15:17:01.610464",
     "exception": false,
     "start_time": "2025-04-24T15:17:01.489579",
     "status": "completed"
    },
    "tags": []
   },
   "outputs": [
    {
     "name": "stdout",
     "output_type": "stream",
     "text": [
      "/kaggle/working/XrayImage_Gen_Report\r\n"
     ]
    }
   ],
   "source": [
    "!pwd"
   ]
  },
  {
   "cell_type": "code",
   "execution_count": 8,
   "id": "2c76b108",
   "metadata": {
    "execution": {
     "iopub.execute_input": "2025-04-24T15:17:01.620083Z",
     "iopub.status.busy": "2025-04-24T15:17:01.619828Z",
     "iopub.status.idle": "2025-04-24T15:52:35.716059Z",
     "shell.execute_reply": "2025-04-24T15:52:35.715363Z"
    },
    "papermill": {
     "duration": 2134.10256,
     "end_time": "2025-04-24T15:52:35.717446",
     "exception": false,
     "start_time": "2025-04-24T15:17:01.614886",
     "status": "completed"
    },
    "tags": []
   },
   "outputs": [
    {
     "name": "stdout",
     "output_type": "stream",
     "text": [
      "2025-04-24 15:17:17.666103: E external/local_xla/xla/stream_executor/cuda/cuda_fft.cc:477] Unable to register cuFFT factory: Attempting to register factory for plugin cuFFT when one has already been registered\r\n",
      "WARNING: All log messages before absl::InitializeLog() is called are written to STDERR\r\n",
      "E0000 00:00:1745507837.865620      73 cuda_dnn.cc:8310] Unable to register cuDNN factory: Attempting to register factory for plugin cuDNN when one has already been registered\r\n",
      "E0000 00:00:1745507837.921489      73 cuda_blas.cc:1418] Unable to register cuBLAS factory: Attempting to register factory for plugin cuBLAS when one has already been registered\r\n",
      "🧪 Checking if checkpoint directory exists: /kaggle/working/checkpoint\r\n",
      "📂 Created checkpoint directory: /kaggle/working/checkpoint\r\n",
      "🔍 Extracting image features...\r\n",
      "config.json: 100%|█████████████████████████| 71.8k/71.8k [00:00<00:00, 8.61MB/s]\r\n",
      "model.safetensors: 100%|██████████████████████| 352M/352M [00:01<00:00, 287MB/s]\r\n",
      "preprocessor_config.json: 100%|████████████████| 255/255 [00:00<00:00, 1.89MB/s]\r\n",
      "Extracting features: 100%|██████████████████████| 86/86 [03:51<00:00,  2.69s/it]\r\n",
      "Extracting features: 100%|██████████████████████| 18/18 [00:49<00:00,  2.78s/it]\r\n",
      "Extracting features: 100%|██████████████████████| 13/13 [00:39<00:00,  3.04s/it]\r\n",
      "✅ Extracted features: (2750, 2048), (563, 2048), (394, 2048)\r\n",
      "🧠 Initializing models...\r\n",
      "tokenizer_config.json: 100%|███████████████| 2.37k/2.37k [00:00<00:00, 16.5MB/s]\r\n",
      "spiece.model: 100%|██████████████████████████| 792k/792k [00:00<00:00, 28.4MB/s]\r\n",
      "tokenizer.json: 100%|██████████████████████| 2.97M/2.97M [00:00<00:00, 33.7MB/s]\r\n",
      "added_tokens.json: 100%|███████████████████| 58.3k/58.3k [00:00<00:00, 65.0MB/s]\r\n",
      "special_tokens_map.json: 100%|█████████████| 2.38k/2.38k [00:00<00:00, 23.8MB/s]\r\n",
      "config.json: 100%|█████████████████████████████| 792/792 [00:00<00:00, 4.89MB/s]\r\n",
      "model.safetensors: 100%|████████████████████| 1.01G/1.01G [00:03<00:00, 322MB/s]\r\n",
      "generation_config.json: 100%|██████████████████| 142/142 [00:00<00:00, 1.60MB/s]\r\n",
      "📦 Tokenizing and preparing DataLoaders...\r\n",
      "🚀 Starting training loop...\r\n",
      "Epoch 1/20:   0%|                                       | 0/172 [00:00<?, ?it/s]Passing a tuple of `past_key_values` is deprecated and will be removed in Transformers v4.48.0. You should pass an instance of `EncoderDecoderCache` instead, e.g. `past_key_values=EncoderDecoderCache.from_legacy_cache(past_key_values)`.\r\n",
      "Epoch 1/20: 100%|██████████| 172/172 [02:05<00:00,  1.38it/s, train_loss=0.5339]\r\n",
      "Epoch 1 - Train Loss: 1.1677 | Val Loss: 0.6752\r\n",
      "✅ Saved checkpoint to /kaggle/working/checkpoint/best_model.pt\r\n",
      "Epoch 2/20: 100%|██████████| 172/172 [02:04<00:00,  1.38it/s, train_loss=0.5483]\r\n",
      "Epoch 2 - Train Loss: 0.5629 | Val Loss: 0.5788\r\n",
      "✅ Saved checkpoint to /kaggle/working/checkpoint/best_model.pt\r\n",
      "Epoch 3/20: 100%|██████████| 172/172 [02:04<00:00,  1.38it/s, train_loss=0.3512]\r\n",
      "Epoch 3 - Train Loss: 0.4740 | Val Loss: 0.5329\r\n",
      "✅ Saved checkpoint to /kaggle/working/checkpoint/best_model.pt\r\n",
      "Epoch 4/20: 100%|██████████| 172/172 [02:04<00:00,  1.38it/s, train_loss=0.3486]\r\n",
      "Epoch 4 - Train Loss: 0.4211 | Val Loss: 0.5137\r\n",
      "✅ Saved checkpoint to /kaggle/working/checkpoint/best_model.pt\r\n",
      "Epoch 5/20: 100%|██████████| 172/172 [02:04<00:00,  1.38it/s, train_loss=0.5598]\r\n",
      "Epoch 5 - Train Loss: 0.3805 | Val Loss: 0.5018\r\n",
      "✅ Saved checkpoint to /kaggle/working/checkpoint/best_model.pt\r\n",
      "Epoch 6/20: 100%|██████████| 172/172 [02:04<00:00,  1.38it/s, train_loss=0.4884]\r\n",
      "Epoch 6 - Train Loss: 0.3468 | Val Loss: 0.5056\r\n",
      "Patience: 1/8\r\n",
      "Epoch 7/20: 100%|██████████| 172/172 [02:04<00:00,  1.38it/s, train_loss=0.3476]\r\n",
      "Epoch 7 - Train Loss: 0.3164 | Val Loss: 0.5160\r\n",
      "Patience: 2/8\r\n",
      "Epoch 8/20: 100%|██████████| 172/172 [02:04<00:00,  1.38it/s, train_loss=0.3490]\r\n",
      "Epoch 8 - Train Loss: 0.2899 | Val Loss: 0.5273\r\n",
      "Patience: 3/8\r\n",
      "Epoch 9/20: 100%|██████████| 172/172 [02:04<00:00,  1.38it/s, train_loss=0.2241]\r\n",
      "Epoch 9 - Train Loss: 0.2578 | Val Loss: 0.5492\r\n",
      "Patience: 4/8\r\n",
      "Epoch 10/20: 100%|█████████| 172/172 [02:04<00:00,  1.38it/s, train_loss=0.1811]\r\n",
      "Epoch 10 - Train Loss: 0.2404 | Val Loss: 0.5895\r\n",
      "Patience: 5/8\r\n",
      "Epoch 11/20: 100%|█████████| 172/172 [02:04<00:00,  1.38it/s, train_loss=0.1208]\r\n",
      "Epoch 11 - Train Loss: 0.2261 | Val Loss: 0.6449\r\n",
      "Patience: 6/8\r\n",
      "Epoch 12/20: 100%|█████████| 172/172 [02:04<00:00,  1.38it/s, train_loss=0.4084]\r\n",
      "Epoch 12 - Train Loss: 0.2088 | Val Loss: 0.6633\r\n",
      "Patience: 7/8\r\n",
      "Epoch 13/20: 100%|█████████| 172/172 [02:04<00:00,  1.38it/s, train_loss=0.0931]\r\n",
      "Epoch 13 - Train Loss: 0.1991 | Val Loss: 0.7047\r\n",
      "Patience: 8/8\r\n",
      "Early stopping.\r\n",
      "✅ Loading best checkpoint from /kaggle/working/checkpoint/best_model.pt...\r\n",
      "📊 Evaluating on test set...\r\n",
      "Evaluating: 100%|███████████████████████████████| 25/25 [00:31<00:00,  1.27s/it]\r\n",
      "\r\n",
      "📊 Evaluation Metrics:\r\n",
      "BLEU-1:  0.4019\r\n",
      "BLEU-2:  0.2496\r\n",
      "BLEU-3:  0.1623\r\n",
      "BLEU-4:  0.1109\r\n",
      "METEOR:  0.3487\r\n",
      "ROUGE-1: 0.4509\r\n",
      "ROUGE-2: 0.1767\r\n",
      "ROUGE-3: 0.0752\r\n",
      "ROUGE-4: 0.0431\r\n",
      "ROUGE-L: 0.3677\r\n",
      "\r\n",
      "🔍 Example Generations:\r\n",
      "\r\n",
      "--- Example 1 ---\r\n",
      "Generated: startseq the lungs are clear bilaterally. specifically no evidence focal consolidation pneumothora pleural effusion. cardio mediastinal silhouette unremarkable. visualized osseous structures the thora are without acute abnormality. endseq\r\n",
      "Reference: startseq there calcified granuloma left midlung. there round density within the anterior segment the right upper lobe. there are prominent interstitial opacities which may represent changes associated with fibrosis. heart size normal. no pneumothora. anterior segment upper lobe rounded focal density. could lung nodule. endseq\r\n",
      "\r\n",
      "--- Example 2 ---\r\n",
      "Generated: startseq the lungs are clear bilaterally. specifically no evidence focal consolidation pneumothora pleural effusion. cardio mediastinal silhouette unremarkable. visualized osseous structures the thora are without acute abnormality. endseq\r\n",
      "Reference: startseq heart size normal. the lungs are clear. no pneumothora pleural effusion. endseq\r\n",
      "\r\n",
      "--- Example 3 ---\r\n",
      "Generated: startseq the cardiomediastinal silhouette within normal limits for size and contour. the lungs are normally inflated without evidence focal airspace disease pleural effusion pneumothora. no acute bone abnormality. endseq\r\n",
      "Reference: startseq the heart normal size. the mediastinum unremarkable. the lungs are clear. endseq\r\n",
      "\r\n",
      "--- Example 4 ---\r\n",
      "Generated: startseq the lungs are clear bilaterally. specifically no evidence focal consolidation pneumothora pleural effusion. cardio mediastinal silhouette unremarkable. visualized osseous structures the thora are without acute abnormality. endseq\r\n",
      "Reference: startseq there mild hyperinflation. there no focal consolidation. there no pneumothora large pleural effusion. the cardiomediastinal contours are grossly unremarkable. the heart size within normal limits. cardiac generator overlies the left upper thora with tips overlying the right atrium and ventricles. endseq\r\n",
      "\r\n",
      "--- Example 5 ---\r\n",
      "Generated: startseq the heart normal size. the mediastinum unremarkable. the lungs are clear. endseq\r\n",
      "Reference: startseq low lung volumes. normal heart size. no pneumothora. no large effusion. no focal infiltrate. endseq\r\n"
     ]
    }
   ],
   "source": [
    "!python main.py"
   ]
  },
  {
   "cell_type": "code",
   "execution_count": 9,
   "id": "bb69313f",
   "metadata": {
    "execution": {
     "iopub.execute_input": "2025-04-24T15:52:35.930684Z",
     "iopub.status.busy": "2025-04-24T15:52:35.930435Z",
     "iopub.status.idle": "2025-04-24T15:52:35.934861Z",
     "shell.execute_reply": "2025-04-24T15:52:35.934060Z"
    },
    "papermill": {
     "duration": 0.108731,
     "end_time": "2025-04-24T15:52:35.935928",
     "exception": false,
     "start_time": "2025-04-24T15:52:35.827197",
     "status": "completed"
    },
    "tags": []
   },
   "outputs": [
    {
     "name": "stdout",
     "output_type": "stream",
     "text": [
      "a\n"
     ]
    }
   ],
   "source": [
    "print(\"a\")"
   ]
  }
 ],
 "metadata": {
  "kaggle": {
   "accelerator": "gpu",
   "dataSources": [
    {
     "datasetId": 7051766,
     "sourceId": 11279323,
     "sourceType": "datasetVersion"
    },
    {
     "datasetId": 7051820,
     "sourceId": 11279395,
     "sourceType": "datasetVersion"
    },
    {
     "datasetId": 7052047,
     "sourceId": 11279752,
     "sourceType": "datasetVersion"
    }
   ],
   "dockerImageVersionId": 31011,
   "isGpuEnabled": true,
   "isInternetEnabled": true,
   "language": "python",
   "sourceType": "notebook"
  },
  "kernelspec": {
   "display_name": "Python 3",
   "language": "python",
   "name": "python3"
  },
  "language_info": {
   "codemirror_mode": {
    "name": "ipython",
    "version": 3
   },
   "file_extension": ".py",
   "mimetype": "text/x-python",
   "name": "python",
   "nbconvert_exporter": "python",
   "pygments_lexer": "ipython3",
   "version": "3.11.11"
  },
  "papermill": {
   "default_parameters": {},
   "duration": 2153.862382,
   "end_time": "2025-04-24T15:52:36.358585",
   "environment_variables": {},
   "exception": null,
   "input_path": "__notebook__.ipynb",
   "output_path": "__notebook__.ipynb",
   "parameters": {},
   "start_time": "2025-04-24T15:16:42.496203",
   "version": "2.6.0"
  }
 },
 "nbformat": 4,
 "nbformat_minor": 5
}
