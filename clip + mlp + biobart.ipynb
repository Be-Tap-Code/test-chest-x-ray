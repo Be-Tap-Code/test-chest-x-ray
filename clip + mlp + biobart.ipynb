{
 "cells": [
  {
   "cell_type": "code",
   "execution_count": 1,
   "id": "69cca336",
   "metadata": {
    "execution": {
     "iopub.execute_input": "2025-04-24T15:10:28.655042Z",
     "iopub.status.busy": "2025-04-24T15:10:28.654442Z",
     "iopub.status.idle": "2025-04-24T15:10:42.242331Z",
     "shell.execute_reply": "2025-04-24T15:10:42.241609Z"
    },
    "papermill": {
     "duration": 13.592182,
     "end_time": "2025-04-24T15:10:42.243682",
     "exception": false,
     "start_time": "2025-04-24T15:10:28.651500",
     "status": "completed"
    },
    "tags": []
   },
   "outputs": [
    {
     "name": "stdout",
     "output_type": "stream",
     "text": [
      "Collecting sacremoses\r\n",
      "  Downloading sacremoses-0.1.1-py3-none-any.whl.metadata (8.3 kB)\r\n",
      "Requirement already satisfied: regex in /usr/local/lib/python3.11/dist-packages (from sacremoses) (2024.11.6)\r\n",
      "Requirement already satisfied: click in /usr/local/lib/python3.11/dist-packages (from sacremoses) (8.1.8)\r\n",
      "Requirement already satisfied: joblib in /usr/local/lib/python3.11/dist-packages (from sacremoses) (1.4.2)\r\n",
      "Requirement already satisfied: tqdm in /usr/local/lib/python3.11/dist-packages (from sacremoses) (4.67.1)\r\n",
      "Downloading sacremoses-0.1.1-py3-none-any.whl (897 kB)\r\n",
      "\u001b[2K   \u001b[90m━━━━━━━━━━━━━━━━━━━━━━━━━━━━━━━━━━━━━━━━\u001b[0m \u001b[32m897.5/897.5 kB\u001b[0m \u001b[31m17.6 MB/s\u001b[0m eta \u001b[36m0:00:00\u001b[0m\r\n",
      "\u001b[?25hInstalling collected packages: sacremoses\r\n",
      "Successfully installed sacremoses-0.1.1\r\n",
      "Collecting rouge_score\r\n",
      "  Downloading rouge_score-0.1.2.tar.gz (17 kB)\r\n",
      "  Preparing metadata (setup.py) ... \u001b[?25l\u001b[?25hdone\r\n",
      "Requirement already satisfied: absl-py in /usr/local/lib/python3.11/dist-packages (from rouge_score) (1.4.0)\r\n",
      "Requirement already satisfied: nltk in /usr/local/lib/python3.11/dist-packages (from rouge_score) (3.9.1)\r\n",
      "Requirement already satisfied: numpy in /usr/local/lib/python3.11/dist-packages (from rouge_score) (1.26.4)\r\n",
      "Requirement already satisfied: six>=1.14.0 in /usr/local/lib/python3.11/dist-packages (from rouge_score) (1.17.0)\r\n",
      "Requirement already satisfied: click in /usr/local/lib/python3.11/dist-packages (from nltk->rouge_score) (8.1.8)\r\n",
      "Requirement already satisfied: joblib in /usr/local/lib/python3.11/dist-packages (from nltk->rouge_score) (1.4.2)\r\n",
      "Requirement already satisfied: regex>=2021.8.3 in /usr/local/lib/python3.11/dist-packages (from nltk->rouge_score) (2024.11.6)\r\n",
      "Requirement already satisfied: tqdm in /usr/local/lib/python3.11/dist-packages (from nltk->rouge_score) (4.67.1)\r\n",
      "Requirement already satisfied: mkl_fft in /usr/local/lib/python3.11/dist-packages (from numpy->rouge_score) (1.3.8)\r\n",
      "Requirement already satisfied: mkl_random in /usr/local/lib/python3.11/dist-packages (from numpy->rouge_score) (1.2.4)\r\n",
      "Requirement already satisfied: mkl_umath in /usr/local/lib/python3.11/dist-packages (from numpy->rouge_score) (0.1.1)\r\n",
      "Requirement already satisfied: mkl in /usr/local/lib/python3.11/dist-packages (from numpy->rouge_score) (2025.1.0)\r\n",
      "Requirement already satisfied: tbb4py in /usr/local/lib/python3.11/dist-packages (from numpy->rouge_score) (2022.1.0)\r\n",
      "Requirement already satisfied: mkl-service in /usr/local/lib/python3.11/dist-packages (from numpy->rouge_score) (2.4.1)\r\n",
      "Requirement already satisfied: intel-openmp<2026,>=2024 in /usr/local/lib/python3.11/dist-packages (from mkl->numpy->rouge_score) (2024.2.0)\r\n",
      "Requirement already satisfied: tbb==2022.* in /usr/local/lib/python3.11/dist-packages (from mkl->numpy->rouge_score) (2022.1.0)\r\n",
      "Requirement already satisfied: tcmlib==1.* in /usr/local/lib/python3.11/dist-packages (from tbb==2022.*->mkl->numpy->rouge_score) (1.2.0)\r\n",
      "Requirement already satisfied: intel-cmplr-lib-rt in /usr/local/lib/python3.11/dist-packages (from mkl_umath->numpy->rouge_score) (2024.2.0)\r\n",
      "Requirement already satisfied: intel-cmplr-lib-ur==2024.2.0 in /usr/local/lib/python3.11/dist-packages (from intel-openmp<2026,>=2024->mkl->numpy->rouge_score) (2024.2.0)\r\n",
      "Building wheels for collected packages: rouge_score\r\n",
      "  Building wheel for rouge_score (setup.py) ... \u001b[?25l\u001b[?25hdone\r\n",
      "  Created wheel for rouge_score: filename=rouge_score-0.1.2-py3-none-any.whl size=24935 sha256=1366a5e1bf0e95df86345717fc09c216f27bc74edfda20322aa19e28ef4c6d6d\r\n",
      "  Stored in directory: /root/.cache/pip/wheels/1e/19/43/8a442dc83660ca25e163e1bd1f89919284ab0d0c1475475148\r\n",
      "Successfully built rouge_score\r\n",
      "Installing collected packages: rouge_score\r\n",
      "Successfully installed rouge_score-0.1.2\r\n",
      "Collecting pycocoevalcap\r\n",
      "  Downloading pycocoevalcap-1.2-py3-none-any.whl.metadata (3.2 kB)\r\n",
      "Requirement already satisfied: pycocotools>=2.0.2 in /usr/local/lib/python3.11/dist-packages (from pycocoevalcap) (2.0.8)\r\n",
      "Requirement already satisfied: matplotlib>=2.1.0 in /usr/local/lib/python3.11/dist-packages (from pycocotools>=2.0.2->pycocoevalcap) (3.7.5)\r\n",
      "Requirement already satisfied: numpy in /usr/local/lib/python3.11/dist-packages (from pycocotools>=2.0.2->pycocoevalcap) (1.26.4)\r\n",
      "Requirement already satisfied: contourpy>=1.0.1 in /usr/local/lib/python3.11/dist-packages (from matplotlib>=2.1.0->pycocotools>=2.0.2->pycocoevalcap) (1.3.1)\r\n",
      "Requirement already satisfied: cycler>=0.10 in /usr/local/lib/python3.11/dist-packages (from matplotlib>=2.1.0->pycocotools>=2.0.2->pycocoevalcap) (0.12.1)\r\n",
      "Requirement already satisfied: fonttools>=4.22.0 in /usr/local/lib/python3.11/dist-packages (from matplotlib>=2.1.0->pycocotools>=2.0.2->pycocoevalcap) (4.56.0)\r\n",
      "Requirement already satisfied: kiwisolver>=1.0.1 in /usr/local/lib/python3.11/dist-packages (from matplotlib>=2.1.0->pycocotools>=2.0.2->pycocoevalcap) (1.4.8)\r\n",
      "Requirement already satisfied: packaging>=20.0 in /usr/local/lib/python3.11/dist-packages (from matplotlib>=2.1.0->pycocotools>=2.0.2->pycocoevalcap) (24.2)\r\n",
      "Requirement already satisfied: pillow>=6.2.0 in /usr/local/lib/python3.11/dist-packages (from matplotlib>=2.1.0->pycocotools>=2.0.2->pycocoevalcap) (11.1.0)\r\n",
      "Requirement already satisfied: pyparsing>=2.3.1 in /usr/local/lib/python3.11/dist-packages (from matplotlib>=2.1.0->pycocotools>=2.0.2->pycocoevalcap) (3.2.1)\r\n",
      "Requirement already satisfied: python-dateutil>=2.7 in /usr/local/lib/python3.11/dist-packages (from matplotlib>=2.1.0->pycocotools>=2.0.2->pycocoevalcap) (2.9.0.post0)\r\n",
      "Requirement already satisfied: mkl_fft in /usr/local/lib/python3.11/dist-packages (from numpy->pycocotools>=2.0.2->pycocoevalcap) (1.3.8)\r\n",
      "Requirement already satisfied: mkl_random in /usr/local/lib/python3.11/dist-packages (from numpy->pycocotools>=2.0.2->pycocoevalcap) (1.2.4)\r\n",
      "Requirement already satisfied: mkl_umath in /usr/local/lib/python3.11/dist-packages (from numpy->pycocotools>=2.0.2->pycocoevalcap) (0.1.1)\r\n",
      "Requirement already satisfied: mkl in /usr/local/lib/python3.11/dist-packages (from numpy->pycocotools>=2.0.2->pycocoevalcap) (2025.1.0)\r\n",
      "Requirement already satisfied: tbb4py in /usr/local/lib/python3.11/dist-packages (from numpy->pycocotools>=2.0.2->pycocoevalcap) (2022.1.0)\r\n",
      "Requirement already satisfied: mkl-service in /usr/local/lib/python3.11/dist-packages (from numpy->pycocotools>=2.0.2->pycocoevalcap) (2.4.1)\r\n",
      "Requirement already satisfied: six>=1.5 in /usr/local/lib/python3.11/dist-packages (from python-dateutil>=2.7->matplotlib>=2.1.0->pycocotools>=2.0.2->pycocoevalcap) (1.17.0)\r\n",
      "Requirement already satisfied: intel-openmp<2026,>=2024 in /usr/local/lib/python3.11/dist-packages (from mkl->numpy->pycocotools>=2.0.2->pycocoevalcap) (2024.2.0)\r\n",
      "Requirement already satisfied: tbb==2022.* in /usr/local/lib/python3.11/dist-packages (from mkl->numpy->pycocotools>=2.0.2->pycocoevalcap) (2022.1.0)\r\n",
      "Requirement already satisfied: tcmlib==1.* in /usr/local/lib/python3.11/dist-packages (from tbb==2022.*->mkl->numpy->pycocotools>=2.0.2->pycocoevalcap) (1.2.0)\r\n",
      "Requirement already satisfied: intel-cmplr-lib-rt in /usr/local/lib/python3.11/dist-packages (from mkl_umath->numpy->pycocotools>=2.0.2->pycocoevalcap) (2024.2.0)\r\n",
      "Requirement already satisfied: intel-cmplr-lib-ur==2024.2.0 in /usr/local/lib/python3.11/dist-packages (from intel-openmp<2026,>=2024->mkl->numpy->pycocotools>=2.0.2->pycocoevalcap) (2024.2.0)\r\n",
      "Downloading pycocoevalcap-1.2-py3-none-any.whl (104.3 MB)\r\n",
      "\u001b[2K   \u001b[90m━━━━━━━━━━━━━━━━━━━━━━━━━━━━━━━━━━━━━━━━\u001b[0m \u001b[32m104.3/104.3 MB\u001b[0m \u001b[31m16.8 MB/s\u001b[0m eta \u001b[36m0:00:00\u001b[0m\r\n",
      "\u001b[?25hInstalling collected packages: pycocoevalcap\r\n",
      "Successfully installed pycocoevalcap-1.2\r\n"
     ]
    }
   ],
   "source": [
    "!pip install sacremoses \n",
    "!pip install rouge_score \n",
    "!pip install pycocoevalcap\n",
    "# !pip install open_clip_torch"
   ]
  },
  {
   "cell_type": "code",
   "execution_count": 2,
   "id": "521ffef1",
   "metadata": {
    "execution": {
     "iopub.execute_input": "2025-04-24T15:10:42.252079Z",
     "iopub.status.busy": "2025-04-24T15:10:42.251840Z",
     "iopub.status.idle": "2025-04-24T15:10:43.024650Z",
     "shell.execute_reply": "2025-04-24T15:10:43.023919Z"
    },
    "papermill": {
     "duration": 0.778227,
     "end_time": "2025-04-24T15:10:43.025987",
     "exception": false,
     "start_time": "2025-04-24T15:10:42.247760",
     "status": "completed"
    },
    "tags": []
   },
   "outputs": [
    {
     "name": "stdout",
     "output_type": "stream",
     "text": [
      "Cloning into 'XrayImage_Gen_Report'...\r\n",
      "remote: Enumerating objects: 475, done.\u001b[K\r\n",
      "remote: Counting objects: 100% (122/122), done.\u001b[K\r\n",
      "remote: Compressing objects: 100% (93/93), done.\u001b[K\r\n",
      "remote: Total 475 (delta 54), reused 97 (delta 29), pack-reused 353 (from 1)\u001b[K\r\n",
      "Receiving objects: 100% (475/475), 97.68 KiB | 7.51 MiB/s, done.\r\n",
      "Resolving deltas: 100% (270/270), done.\r\n"
     ]
    }
   ],
   "source": [
    "!git clone https://github.com/hein-nkhh/XrayImage_Gen_Report.git"
   ]
  },
  {
   "cell_type": "code",
   "execution_count": 3,
   "id": "d3ef3a57",
   "metadata": {
    "execution": {
     "iopub.execute_input": "2025-04-24T15:10:43.034606Z",
     "iopub.status.busy": "2025-04-24T15:10:43.034375Z",
     "iopub.status.idle": "2025-04-24T15:10:43.039986Z",
     "shell.execute_reply": "2025-04-24T15:10:43.039318Z"
    },
    "papermill": {
     "duration": 0.010965,
     "end_time": "2025-04-24T15:10:43.041003",
     "exception": false,
     "start_time": "2025-04-24T15:10:43.030038",
     "status": "completed"
    },
    "tags": []
   },
   "outputs": [
    {
     "name": "stdout",
     "output_type": "stream",
     "text": [
      "/kaggle/working/XrayImage_Gen_Report\n"
     ]
    }
   ],
   "source": [
    "%cd /kaggle/working/XrayImage_Gen_Report"
   ]
  },
  {
   "cell_type": "code",
   "execution_count": 4,
   "id": "36f8b8ce",
   "metadata": {
    "execution": {
     "iopub.execute_input": "2025-04-24T15:10:43.049564Z",
     "iopub.status.busy": "2025-04-24T15:10:43.049373Z",
     "iopub.status.idle": "2025-04-24T15:10:43.054327Z",
     "shell.execute_reply": "2025-04-24T15:10:43.053635Z"
    },
    "papermill": {
     "duration": 0.010321,
     "end_time": "2025-04-24T15:10:43.055372",
     "exception": false,
     "start_time": "2025-04-24T15:10:43.045051",
     "status": "completed"
    },
    "tags": []
   },
   "outputs": [
    {
     "name": "stdout",
     "output_type": "stream",
     "text": [
      "Overwriting /kaggle/working/XrayImage_Gen_Report/models/mlp.py\n"
     ]
    }
   ],
   "source": [
    "%%writefile /kaggle/working/XrayImage_Gen_Report/models/mlp.py\n",
    "import torch\n",
    "import torch.nn as nn\n",
    "from config import MLP_HIDDEN_DIM\n",
    "\n",
    "class MLP(nn.Module):\n",
    "    def __init__(self, input_dim, output_dim):\n",
    "        super(MLP, self).__init__()\n",
    "        self.fc1 = nn.Linear(input_dim, MLP_HIDDEN_DIM)\n",
    "        self.dropout1 = nn.Dropout(0.1)\n",
    "        self.fc2 = nn.Linear(MLP_HIDDEN_DIM, output_dim)\n",
    "        self.layer_norm = nn.LayerNorm(output_dim)\n",
    "\n",
    "    def forward(self, x):\n",
    "        x = self.fc1(x)\n",
    "        x = torch.relu(x)\n",
    "        x = self.dropout1(x)\n",
    "        x = self.fc2(x)\n",
    "        x = self.layer_norm(x)\n",
    "        return x\n"
   ]
  },
  {
   "cell_type": "code",
   "execution_count": 5,
   "id": "ddacd576",
   "metadata": {
    "execution": {
     "iopub.execute_input": "2025-04-24T15:10:43.064822Z",
     "iopub.status.busy": "2025-04-24T15:10:43.064601Z",
     "iopub.status.idle": "2025-04-24T15:10:43.179605Z",
     "shell.execute_reply": "2025-04-24T15:10:43.178745Z"
    },
    "papermill": {
     "duration": 0.12042,
     "end_time": "2025-04-24T15:10:43.180762",
     "exception": false,
     "start_time": "2025-04-24T15:10:43.060342",
     "status": "completed"
    },
    "tags": []
   },
   "outputs": [
    {
     "name": "stdout",
     "output_type": "stream",
     "text": [
      "/kaggle/working/XrayImage_Gen_Report\r\n"
     ]
    }
   ],
   "source": [
    "!pwd"
   ]
  },
  {
   "cell_type": "code",
   "execution_count": 6,
   "id": "b97d830b",
   "metadata": {
    "execution": {
     "iopub.execute_input": "2025-04-24T15:10:43.189510Z",
     "iopub.status.busy": "2025-04-24T15:10:43.189061Z",
     "iopub.status.idle": "2025-04-24T15:10:43.194431Z",
     "shell.execute_reply": "2025-04-24T15:10:43.193755Z"
    },
    "papermill": {
     "duration": 0.010857,
     "end_time": "2025-04-24T15:10:43.195457",
     "exception": false,
     "start_time": "2025-04-24T15:10:43.184600",
     "status": "completed"
    },
    "tags": []
   },
   "outputs": [
    {
     "name": "stdout",
     "output_type": "stream",
     "text": [
      "Writing /kaggle/working/XrayImage_Gen_Report/models/feature_extractos.py\n"
     ]
    }
   ],
   "source": [
    "%%writefile /kaggle/working/XrayImage_Gen_Report/models/feature_extractos.py\n",
    "import torch\n",
    "from transformers import CLIPModel, CLIPProcessor\n",
    "from config import DEVICE\n",
    "\n",
    "class FeatureExtractor:\n",
    "    def __init__(self):\n",
    "        # Sử dụng CLIP-ViT thay cho Swin Transformer\n",
    "        self.model = CLIPModel.from_pretrained('openai/clip-vit-base-patch32').to(DEVICE)\n",
    "        self.model.eval()\n",
    "        self.processor = CLIPProcessor.from_pretrained('openai/clip-vit-base-patch32')\n",
    "\n",
    "    def extract(self, image):\n",
    "        # Chuẩn bị ảnh và chú thích cho CLIP\n",
    "        inputs = self.processor(images=image, return_tensors=\"pt\")\n",
    "        inputs = {k: v.to(DEVICE) for k, v in inputs.items()}\n",
    "        with torch.no_grad():\n",
    "            # Lấy các đặc trưng từ CLIP\n",
    "            outputs = self.model.get_image_features(**inputs)\n",
    "        return outputs[:, 0, :].squeeze(0).cpu().numpy()"
   ]
  },
  {
   "cell_type": "code",
   "execution_count": 7,
   "id": "b63a97ed",
   "metadata": {
    "execution": {
     "iopub.execute_input": "2025-04-24T15:10:43.204163Z",
     "iopub.status.busy": "2025-04-24T15:10:43.203776Z",
     "iopub.status.idle": "2025-04-24T15:10:43.208290Z",
     "shell.execute_reply": "2025-04-24T15:10:43.207713Z"
    },
    "papermill": {
     "duration": 0.010075,
     "end_time": "2025-04-24T15:10:43.209435",
     "exception": false,
     "start_time": "2025-04-24T15:10:43.199360",
     "status": "completed"
    },
    "tags": []
   },
   "outputs": [
    {
     "name": "stdout",
     "output_type": "stream",
     "text": [
      "Overwriting /kaggle/working/XrayImage_Gen_Report/models/report_generator.py\n"
     ]
    }
   ],
   "source": [
    "%%writefile /kaggle/working/XrayImage_Gen_Report/models/report_generator.py\n",
    "# models/generator.py\n",
    "import torch\n",
    "from transformers import AutoTokenizer, T5ForConditionalGeneration\n",
    "from config import BIOBART_MODEL_NAME, DEVICE\n",
    "\n",
    "class ReportGenerator:\n",
    "    def __init__(self):\n",
    "        self.tokenizer = AutoTokenizer.from_pretrained('QizhiPei/biot5-base', model_max_length=512)\n",
    "        self.model = T5ForConditionalGeneration.from_pretrained('QizhiPei/biot5-base').to(DEVICE)\n",
    "        self.model.config.pad_token_id = self.tokenizer.pad_token_id\n",
    "\n",
    "    def generate(self, embeddings, max_length=150):\n",
    "        inputs = embeddings.unsqueeze(1)\n",
    "        output_ids = self.model.generate(\n",
    "            inputs_embeds=inputs,\n",
    "            max_length=max_length,\n",
    "            num_beams=4,\n",
    "            early_stopping=True\n",
    "        )\n",
    "        return self.tokenizer.batch_decode(output_ids, skip_special_tokens=True)\n",
    "\n",
    "    def get_loss(self, embeddings, labels, attention_mask):\n",
    "        batch_size, seq_len = labels.shape\n",
    "        inputs_embeds = embeddings.unsqueeze(1).expand(-1, seq_len, -1)\n",
    "        vocab_size = self.model.config.vocab_size\n",
    "        if labels.max() >= vocab_size:\n",
    "            print(\"⚠️ Token ID vượt vocab size:\", labels.max().item(), \"vượt\", vocab_size)\n",
    "            print(\"Vị trí lỗi:\", torch.nonzero(labels >= vocab_size))\n",
    "            exit(1)\n",
    "\n",
    "        output = self.model(\n",
    "            inputs_embeds=inputs_embeds,\n",
    "            labels=labels,\n",
    "            decoder_attention_mask=attention_mask,\n",
    "        )\n",
    "        return output.loss\n"
   ]
  },
  {
   "cell_type": "code",
   "execution_count": 8,
   "id": "0b75abba",
   "metadata": {
    "execution": {
     "iopub.execute_input": "2025-04-24T15:10:43.217931Z",
     "iopub.status.busy": "2025-04-24T15:10:43.217717Z",
     "iopub.status.idle": "2025-04-24T15:48:07.547147Z",
     "shell.execute_reply": "2025-04-24T15:48:07.546297Z"
    },
    "papermill": {
     "duration": 2244.335514,
     "end_time": "2025-04-24T15:48:07.548904",
     "exception": false,
     "start_time": "2025-04-24T15:10:43.213390",
     "status": "completed"
    },
    "tags": []
   },
   "outputs": [
    {
     "name": "stdout",
     "output_type": "stream",
     "text": [
      "2025-04-24 15:10:59.683568: E external/local_xla/xla/stream_executor/cuda/cuda_fft.cc:477] Unable to register cuFFT factory: Attempting to register factory for plugin cuFFT when one has already been registered\r\n",
      "WARNING: All log messages before absl::InitializeLog() is called are written to STDERR\r\n",
      "E0000 00:00:1745507459.878596      73 cuda_dnn.cc:8310] Unable to register cuDNN factory: Attempting to register factory for plugin cuDNN when one has already been registered\r\n",
      "E0000 00:00:1745507459.937558      73 cuda_blas.cc:1418] Unable to register cuBLAS factory: Attempting to register factory for plugin cuBLAS when one has already been registered\r\n",
      "🧪 Checking if checkpoint directory exists: /kaggle/working/checkpoint\r\n",
      "📂 Created checkpoint directory: /kaggle/working/checkpoint\r\n",
      "🔍 Extracting image features...\r\n",
      "config.json: 100%|█████████████████████████| 71.8k/71.8k [00:00<00:00, 8.72MB/s]\r\n",
      "model.safetensors: 100%|██████████████████████| 352M/352M [00:01<00:00, 298MB/s]\r\n",
      "preprocessor_config.json: 100%|████████████████| 255/255 [00:00<00:00, 1.60MB/s]\r\n",
      "Extracting features: 100%|██████████████████████| 86/86 [03:40<00:00,  2.56s/it]\r\n",
      "Extracting features: 100%|██████████████████████| 18/18 [00:45<00:00,  2.52s/it]\r\n",
      "Extracting features: 100%|██████████████████████| 13/13 [00:31<00:00,  2.43s/it]\r\n",
      "✅ Extracted features: (2750, 2048), (563, 2048), (394, 2048)\r\n",
      "🧠 Initializing models...\r\n",
      "tokenizer_config.json: 100%|███████████████| 2.37k/2.37k [00:00<00:00, 20.1MB/s]\r\n",
      "spiece.model: 100%|██████████████████████████| 792k/792k [00:00<00:00, 23.7MB/s]\r\n",
      "tokenizer.json: 100%|██████████████████████| 2.97M/2.97M [00:00<00:00, 15.5MB/s]\r\n",
      "added_tokens.json: 100%|████████████████████| 58.3k/58.3k [00:00<00:00, 169MB/s]\r\n",
      "special_tokens_map.json: 100%|█████████████| 2.38k/2.38k [00:00<00:00, 23.1MB/s]\r\n",
      "config.json: 100%|█████████████████████████████| 792/792 [00:00<00:00, 6.38MB/s]\r\n",
      "model.safetensors: 100%|████████████████████| 1.01G/1.01G [00:03<00:00, 296MB/s]\r\n",
      "generation_config.json: 100%|██████████████████| 142/142 [00:00<00:00, 1.40MB/s]\r\n",
      "📦 Tokenizing and preparing DataLoaders...\r\n",
      "🚀 Starting training loop...\r\n",
      "Epoch 1/20:   0%|                                       | 0/172 [00:00<?, ?it/s]Passing a tuple of `past_key_values` is deprecated and will be removed in Transformers v4.48.0. You should pass an instance of `EncoderDecoderCache` instead, e.g. `past_key_values=EncoderDecoderCache.from_legacy_cache(past_key_values)`.\r\n",
      "Epoch 1/20: 100%|██████████| 172/172 [02:05<00:00,  1.38it/s, train_loss=0.6425]\r\n",
      "Epoch 1 - Train Loss: 1.1394 | Val Loss: 0.6701\r\n",
      "✅ Saved checkpoint to /kaggle/working/checkpoint/best_model.pt\r\n",
      "Epoch 2/20: 100%|██████████| 172/172 [02:04<00:00,  1.38it/s, train_loss=0.7171]\r\n",
      "Epoch 2 - Train Loss: 0.5581 | Val Loss: 0.5691\r\n",
      "✅ Saved checkpoint to /kaggle/working/checkpoint/best_model.pt\r\n",
      "Epoch 3/20: 100%|██████████| 172/172 [02:04<00:00,  1.38it/s, train_loss=0.3973]\r\n",
      "Epoch 3 - Train Loss: 0.4687 | Val Loss: 0.5252\r\n",
      "✅ Saved checkpoint to /kaggle/working/checkpoint/best_model.pt\r\n",
      "Epoch 4/20: 100%|██████████| 172/172 [02:04<00:00,  1.38it/s, train_loss=0.4067]\r\n",
      "Epoch 4 - Train Loss: 0.4153 | Val Loss: 0.5049\r\n",
      "✅ Saved checkpoint to /kaggle/working/checkpoint/best_model.pt\r\n",
      "Epoch 5/20: 100%|██████████| 172/172 [02:04<00:00,  1.38it/s, train_loss=0.2162]\r\n",
      "Epoch 5 - Train Loss: 0.3751 | Val Loss: 0.4957\r\n",
      "✅ Saved checkpoint to /kaggle/working/checkpoint/best_model.pt\r\n",
      "Epoch 6/20: 100%|██████████| 172/172 [02:04<00:00,  1.38it/s, train_loss=0.3616]\r\n",
      "Epoch 6 - Train Loss: 0.3415 | Val Loss: 0.4908\r\n",
      "✅ Saved checkpoint to /kaggle/working/checkpoint/best_model.pt\r\n",
      "Epoch 7/20: 100%|██████████| 172/172 [02:04<00:00,  1.38it/s, train_loss=0.1877]\r\n",
      "Epoch 7 - Train Loss: 0.3123 | Val Loss: 0.5113\r\n",
      "Patience: 1/8\r\n",
      "Epoch 8/20: 100%|██████████| 172/172 [02:04<00:00,  1.38it/s, train_loss=0.2501]\r\n",
      "Epoch 8 - Train Loss: 0.2861 | Val Loss: 0.5198\r\n",
      "Patience: 2/8\r\n",
      "Epoch 9/20: 100%|██████████| 172/172 [02:04<00:00,  1.38it/s, train_loss=0.3294]\r\n",
      "Epoch 9 - Train Loss: 0.2619 | Val Loss: 0.5326\r\n",
      "Patience: 3/8\r\n",
      "Epoch 10/20: 100%|█████████| 172/172 [02:04<00:00,  1.38it/s, train_loss=0.1707]\r\n",
      "Epoch 10 - Train Loss: 0.2322 | Val Loss: 0.6028\r\n",
      "Patience: 4/8\r\n",
      "Epoch 11/20: 100%|█████████| 172/172 [02:04<00:00,  1.38it/s, train_loss=0.2107]\r\n",
      "Epoch 11 - Train Loss: 0.2153 | Val Loss: 0.6325\r\n",
      "Patience: 5/8\r\n",
      "Epoch 12/20: 100%|█████████| 172/172 [02:04<00:00,  1.38it/s, train_loss=0.2102]\r\n",
      "Epoch 12 - Train Loss: 0.2019 | Val Loss: 0.6829\r\n",
      "Patience: 6/8\r\n",
      "Epoch 13/20: 100%|█████████| 172/172 [02:04<00:00,  1.38it/s, train_loss=0.1747]\r\n",
      "Epoch 13 - Train Loss: 0.1843 | Val Loss: 0.7474\r\n",
      "Patience: 7/8\r\n",
      "Epoch 14/20: 100%|█████████| 172/172 [02:04<00:00,  1.38it/s, train_loss=0.2316]\r\n",
      "Epoch 14 - Train Loss: 0.1755 | Val Loss: 0.7855\r\n",
      "Patience: 8/8\r\n",
      "Early stopping.\r\n",
      "✅ Loading best checkpoint from /kaggle/working/checkpoint/best_model.pt...\r\n",
      "📊 Evaluating on test set...\r\n",
      "Evaluating: 100%|███████████████████████████████| 25/25 [00:31<00:00,  1.25s/it]\r\n",
      "\r\n",
      "📊 Evaluation Metrics:\r\n",
      "BLEU-1:  0.4387\r\n",
      "BLEU-2:  0.2892\r\n",
      "BLEU-3:  0.1827\r\n",
      "BLEU-4:  0.1157\r\n",
      "METEOR:  0.3992\r\n",
      "ROUGE-1: 0.4672\r\n",
      "ROUGE-2: 0.2037\r\n",
      "ROUGE-3: 0.0744\r\n",
      "ROUGE-4: 0.0330\r\n",
      "ROUGE-L: 0.3621\r\n",
      "\r\n",
      "🔍 Example Generations:\r\n",
      "\r\n",
      "--- Example 1 ---\r\n",
      "Generated: startseq the cardiomediastinal silhouette within normal limits for size and contour. the lungs are normally inflated without evidence focal airspace disease pleural effusion pneumothora. no acute bone abnormality. endseq\r\n",
      "Reference: startseq there calcified granuloma left midlung. there round density within the anterior segment the right upper lobe. there are prominent interstitial opacities which may represent changes associated with fibrosis. heart size normal. no pneumothora. anterior segment upper lobe rounded focal density. could lung nodule. endseq\r\n",
      "\r\n",
      "--- Example 2 ---\r\n",
      "Generated: startseq the cardiomediastinal silhouette within normal limits for size and contour. the lungs are normally inflated without evidence focal airspace disease pleural effusion pneumothora. no acute bone abnormality. endseq\r\n",
      "Reference: startseq heart size normal. the lungs are clear. no pneumothora pleural effusion. endseq\r\n",
      "\r\n",
      "--- Example 3 ---\r\n",
      "Generated: startseq the cardiomediastinal silhouette within normal limits for size and contour. the lungs are normally inflated without evidence focal airspace disease pleural effusion pneumothora. no acute bone abnormality. endseq\r\n",
      "Reference: startseq the heart normal size. the mediastinum unremarkable. the lungs are clear. endseq\r\n",
      "\r\n",
      "--- Example 4 ---\r\n",
      "Generated: startseq the cardiomediastinal silhouette within normal limits for size and contour. the lungs are normally inflated without evidence focal airspace disease pleural effusion pneumothora. no acute bone abnormality. endseq\r\n",
      "Reference: startseq there mild hyperinflation. there no focal consolidation. there no pneumothora large pleural effusion. the cardiomediastinal contours are grossly unremarkable. the heart size within normal limits. cardiac generator overlies the left upper thora with tips overlying the right atrium and ventricles. endseq\r\n",
      "\r\n",
      "--- Example 5 ---\r\n",
      "Generated: startseq the cardiomediastinal silhouette within normal limits for size and contour. the lungs are normally inflated without evidence focal airspace disease pleural effusion pneumothora. no acute bone abnormality. endseq\r\n",
      "Reference: startseq low lung volumes. normal heart size. no pneumothora. no large effusion. no focal infiltrate. endseq\r\n"
     ]
    }
   ],
   "source": [
    "!python main.py"
   ]
  }
 ],
 "metadata": {
  "kaggle": {
   "accelerator": "gpu",
   "dataSources": [
    {
     "datasetId": 7051766,
     "sourceId": 11279323,
     "sourceType": "datasetVersion"
    },
    {
     "datasetId": 7051820,
     "sourceId": 11279395,
     "sourceType": "datasetVersion"
    },
    {
     "datasetId": 7052047,
     "sourceId": 11279752,
     "sourceType": "datasetVersion"
    }
   ],
   "dockerImageVersionId": 31011,
   "isGpuEnabled": true,
   "isInternetEnabled": true,
   "language": "python",
   "sourceType": "notebook"
  },
  "kernelspec": {
   "display_name": "Python 3",
   "language": "python",
   "name": "python3"
  },
  "language_info": {
   "codemirror_mode": {
    "name": "ipython",
    "version": 3
   },
   "file_extension": ".py",
   "mimetype": "text/x-python",
   "name": "python",
   "nbconvert_exporter": "python",
   "pygments_lexer": "ipython3",
   "version": "3.11.11"
  },
  "papermill": {
   "default_parameters": {},
   "duration": 2263.218809,
   "end_time": "2025-04-24T15:48:07.879966",
   "environment_variables": {},
   "exception": null,
   "input_path": "__notebook__.ipynb",
   "output_path": "__notebook__.ipynb",
   "parameters": {},
   "start_time": "2025-04-24T15:10:24.661157",
   "version": "2.6.0"
  }
 },
 "nbformat": 4,
 "nbformat_minor": 5
}
